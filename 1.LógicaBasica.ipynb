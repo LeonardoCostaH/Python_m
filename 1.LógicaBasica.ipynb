{
 "cells": [
  {
   "cell_type": "markdown",
   "metadata": {},
   "source": [
    "Função print"
   ]
  },
  {
   "cell_type": "code",
   "execution_count": 5,
   "metadata": {},
   "outputs": [
    {
     "name": "stdout",
     "output_type": "stream",
     "text": [
      "12341011#56-78\n",
      "9-10\n",
      "6\n",
      "7\n"
     ]
    }
   ],
   "source": [
    "# \\r\\n -> CRLF\n",
    "# \\n -> LF\n",
    "print(12, 34, 1011, sep=\"\", end='#')\n",
    "print(56, 78, sep='-', end='\\n')\n",
    "print(9, 10, sep='-', end='\\r\\n')\n",
    "print(6,7,sep=\"\\n\")"
   ]
  },
  {
   "cell_type": "markdown",
   "metadata": {},
   "source": [
    "Tipos de dados - STRING"
   ]
  },
  {
   "cell_type": "code",
   "execution_count": 6,
   "metadata": {},
   "outputs": [
    {
     "name": "stdout",
     "output_type": "stream",
     "text": [
      "1234\n",
      "Luiz Otávio\n",
      "1 Luiz \"Otávio\"\n",
      "Luiz Otávio\n",
      "2 Luiz 'Otávio'\n",
      "Luiz \"Otávio\"\n",
      "Luiz \\\"Otávio\\\"\n"
     ]
    }
   ],
   "source": [
    "\"\"\"\n",
    "DocString\n",
    "Python = Linguagem de programação\n",
    "Tipo de tipagem = Dinâmica / Forte\n",
    "str -> string -> texto\n",
    "Strings são textos que estão dentro de aspas\n",
    "\"\"\"\n",
    "print(1234)\n",
    "\n",
    "# Aspas simples\n",
    "print('Luiz Otávio')\n",
    "print(1, 'Luiz \"Otávio\"')\n",
    "\n",
    "# Aspas duplas\n",
    "print(\"Luiz Otávio\")\n",
    "print(2, \"Luiz 'Otávio'\")\n",
    "\n",
    "# Escape\n",
    "print(\"Luiz \\\"Otávio\\\"\")\n",
    "\n",
    "# r\n",
    "print(r\"Luiz \\\"Otávio\\\"\")"
   ]
  },
  {
   "cell_type": "markdown",
   "metadata": {},
   "source": [
    "Tipos de dados - INT e FLOAT"
   ]
  },
  {
   "cell_type": "code",
   "execution_count": 7,
   "metadata": {},
   "outputs": [
    {
     "name": "stdout",
     "output_type": "stream",
     "text": [
      "<class 'str'>\n",
      "<class 'int'>\n",
      "<class 'float'> <class 'float'> <class 'float'>\n"
     ]
    }
   ],
   "source": [
    "# Tipos int e float\n",
    "# int -> Número inteiro\n",
    "# O tipo int representa qualquer número\n",
    "# positivo ou negativo. int sem sinal é considerado\n",
    "# positivo.\n",
    "# print(11) # int\n",
    "# print(-11) # int\n",
    "# print(0)\n",
    "\n",
    "# float -> Número com ponto flutuante\n",
    "# O tipo float representa qualquer número\n",
    "# positivo ou negativo com ponto flutuante.\n",
    "# float sem sinal é considerado positivo.\n",
    "# print(1.1, 10.11)\n",
    "# print(0.0, -1.5)\n",
    "\n",
    "# A função type mostra o tipo que o Python\n",
    "# inferiu ao valor.\n",
    "print(type('Otávio'))\n",
    "print(type(0))\n",
    "print(type(1.1), type(-1.1), type(0.0))"
   ]
  },
  {
   "cell_type": "markdown",
   "metadata": {},
   "source": [
    "Tipos de dados - BOOL"
   ]
  },
  {
   "cell_type": "code",
   "execution_count": 8,
   "metadata": {},
   "outputs": [
    {
     "name": "stdout",
     "output_type": "stream",
     "text": [
      "True\n",
      "False\n",
      "<class 'bool'>\n",
      "<class 'bool'>\n",
      "<class 'bool'>\n",
      "<class 'bool'>\n"
     ]
    }
   ],
   "source": [
    "# Tipo de dado bool (boolean)\n",
    "# Ao questionar algo em um programa,\n",
    "# só existem duas respostas possíveis:\n",
    "# sim (True) ou não (False).\n",
    "# Existem vários operadores para \"questionar\".\n",
    "# Dentre eles o ==, que é um operador lógico que\n",
    "# questiona se um valor é igual a outro\n",
    "print(10 == 10)  # Sim => True (Verdadeiro)\n",
    "print(10 == 11)  # Não => False (Falso)\n",
    "print(type(True))\n",
    "print(type(False))\n",
    "print(type(10 == 10))\n",
    "print(type(10 == 11))"
   ]
  },
  {
   "cell_type": "markdown",
   "metadata": {},
   "source": [
    "Conversão de tipos"
   ]
  },
  {
   "cell_type": "code",
   "execution_count": 9,
   "metadata": {},
   "outputs": [
    {
     "name": "stdout",
     "output_type": "stream",
     "text": [
      "1 <class 'int'>\n",
      "<class 'float'>\n",
      "True\n",
      "11b\n"
     ]
    }
   ],
   "source": [
    "# conversão de tipos, coerção\n",
    "# type convertion, typecasting, coercion\n",
    "# é o ato de converter um tipo em outro\n",
    "#  tipos imutáveis e primitivos:\n",
    "# str, int, float, bool\n",
    "print(int('1'), type(int('1')))\n",
    "print(type(float('1') + 1))\n",
    "print(bool(' '))\n",
    "print(str(11) + 'b')"
   ]
  },
  {
   "cell_type": "markdown",
   "metadata": {},
   "source": [
    "Variáveis"
   ]
  },
  {
   "cell_type": "code",
   "execution_count": 13,
   "metadata": {},
   "outputs": [
    {
     "name": "stdout",
     "output_type": "stream",
     "text": [
      "Nome: Leonardo Idade: 32\n",
      "É maior? True\n"
     ]
    }
   ],
   "source": [
    "# Variáveis são usadas para salvar algo na memória do computador.\n",
    "# PEP8: inicie variáveis com letras minúsculas, pode usar\n",
    "# números e underline _.\n",
    "# O sinal de = é o operador de atribuição. Ele é usado para\n",
    "# atribuir um valor a um nome (variável).\n",
    "# Uso: nome_variavel = expressão\n",
    "\n",
    "# nome_completo = 'Leonardo Augusto Costa Hermes'\n",
    "# soma_dois_mais_dois = 2 + 2\n",
    "# int_um = bool('1')\n",
    "# print(int_um, type(int_um))\n",
    "# print(nome_completo, soma_dois_mais_dois)\n",
    "\n",
    "nome = 'Leonardo'\n",
    "idade = 32\n",
    "maior_de_idade = idade >= 18\n",
    "print('Nome:', nome, 'Idade:', idade)\n",
    "print('É maior?', maior_de_idade)"
   ]
  },
  {
   "cell_type": "markdown",
   "metadata": {},
   "source": [
    "# Exercício Proposto\n",
    "\n",
    "### Enunciado\n",
    "\n",
    "1. Peça ao usuário para digitar seu nome\n",
    "2. Peça ao usuário para digitar sua idade\n",
    "3. Se **nome e idade** forem digitados:\n",
    "    - Exiba:\n",
    "        - `Seu nome é {nome}`\n",
    "        - `Seu nome invertido é {nome invertido}`\n",
    "        - `Seu nome contém (ou não) espaços`\n",
    "        - `Seu nome tem {n} letras`\n",
    "        - `A primeira letra do seu nome é {letra}`\n",
    "        - `A última letra do seu nome é {letra}`\n",
    "4. Se **nome ou idade** estiverem vazios:\n",
    "    - Exiba: `\"Desculpe, você deixou campos vazios.\"`"
   ]
  },
  {
   "cell_type": "code",
   "execution_count": 2,
   "metadata": {},
   "outputs": [
    {
     "name": "stdout",
     "output_type": "stream",
     "text": [
      "Seu nome é Leonardo Augusto Costa Hermes\n",
      "Seu nome invertido é semreH atsoC otsuguA odranoeL\n",
      "Seu nome contém 29 letras\n",
      "Seu nome tem espaços\n",
      "A primeira letra do seu nome é L\n",
      "A última letra do seu nome é s\n"
     ]
    }
   ],
   "source": [
    "nome = input(\"Qual é o seu nome? \")\n",
    "idade = input(\"Qual é a sua idade? \")\n",
    "if nome != None and idade != None:\n",
    "    print(f\"Seu nome é {nome}\")\n",
    "    print(f\"Seu nome invertido é {nome[::-1]}\")\n",
    "    print(f\"Seu nome contém {len(nome)} letras\")\n",
    "    if \" \" in nome:\n",
    "        print(f\"Seu nome tem espaços\")\n",
    "    else:\n",
    "        print(f\"Seu nome não tem espaços\")\n",
    "    print(f\"A primeira letra do seu nome é {nome[0]}\")\n",
    "    print(f\"A última letra do seu nome é {nome[-1]}\")\n",
    "else:\n",
    "    print(\"Desculpe, você deixou campos vazios. \")"
   ]
  },
  {
   "cell_type": "markdown",
   "metadata": {},
   "source": [
    "## 🧠 Exercício — Três Programas em Um\n",
    "\n",
    "### 📄 Enunciado\n",
    "\n",
    "**Crie três programas separados**, cada um resolvendo um dos problemas abaixo. Você pode escrevê-los no mesmo arquivo, separando com comentários, ou em arquivos distintos:\n",
    "\n",
    "1. **Número Par ou Ímpar**\n",
    "    \n",
    "    Peça ao usuário para digitar um número. Tente convertê-lo para um número inteiro.\n",
    "    \n",
    "    - Se conseguir, informe se ele é par ou ímpar.\n",
    "    - Se não for um número inteiro válido, exiba uma mensagem de erro apropriada.\n",
    "2. **Saudação conforme a hora**\n",
    "    \n",
    "    Peça ao usuário para digitar a hora como um número inteiro.\n",
    "    \n",
    "    - De 0 a 11 → \"Bom dia\"\n",
    "    - De 12 a 17 → \"Boa tarde\"\n",
    "    - De 18 a 23 → \"Boa noite\"\n",
    "    - Fora desses valores → informe que a hora é inválida\n",
    "    - Se o valor digitado não for um número inteiro → exiba uma mensagem de erro\n",
    "3. **Tamanho do nome**\n",
    "    \n",
    "    Peça o primeiro nome do usuário e verifique seu comprimento:\n",
    "    \n",
    "    - Até 4 letras → \"Seu nome é curto\"\n",
    "    - Entre 5 e 6 letras → \"Seu nome é normal\"\n",
    "    - Mais de 6 letras → \"Seu nome é muito grande\"\n",
    "    - Se o nome tiver menos de 2 caracteres → informe que é necessário digitar mais de uma letra"
   ]
  },
  {
   "cell_type": "code",
   "execution_count": 1,
   "metadata": {},
   "outputs": [
    {
     "name": "stdout",
     "output_type": "stream",
     "text": [
      "5 é ímpar\n",
      "Boa tarde!\n",
      "Seu nome é curto\n"
     ]
    }
   ],
   "source": [
    "n1 = input(\"Digite um número: \")\n",
    "if n1.isdigit():\n",
    "    n1 = int(n1)\n",
    "    if n1 % 2 == 0:\n",
    "        print(f\"{n1} é par\")\n",
    "    else:\n",
    "        print(f\"{n1} é ímpar\")\n",
    "else:\n",
    "    print(\"Desculpe, você não digitou um número inteiro. \")\n",
    "\n",
    "hora = input(\"Digite a hora em números inteiros (0-23): \")\n",
    "if hora.isdigit():\n",
    "    hora = int(hora)\n",
    "    if hora > 0 and hora < 11:\n",
    "        print(\"Bom dia!\")\n",
    "    elif hora >= 11 and hora < 17:\n",
    "        print(\"Boa tarde!\")\n",
    "    elif hora >= 17 and hora < 23:\n",
    "        print(\"Boa noite!\")\n",
    "    else:\n",
    "        print(\"Desculpe, você não digitou uma hora válida. \")\n",
    "else:\n",
    "    print(\"Desculpe, você não digitou uma hora válida. \")\n",
    "\n",
    "nome = input(\"Qual é o seu nome? \")\n",
    "tamanho = len(nome)\n",
    "if tamanho < 4:\n",
    "    print(\"Seu nome é curto\")\n",
    "elif tamanho >= 4 and tamanho <= 6:\n",
    "    print(\"Seu nome é normal\")\n",
    "elif tamanho > 6:\n",
    "    print(\"Seu nome é muito grande\")\n",
    "elif tamanho < 2:\n",
    "    print(\"É necessário digitar um nome maior que 1 letra\")"
   ]
  },
  {
   "cell_type": "markdown",
   "metadata": {},
   "source": [
    "# 🧮 Exercício Guiado: Calculadora com while"
   ]
  },
  {
   "cell_type": "code",
   "execution_count": 1,
   "metadata": {},
   "outputs": [
    {
     "name": "stdout",
     "output_type": "stream",
     "text": [
      "Realizando sua conta. Confira o resultado abaixo:\n",
      "5.0 - 8.0 = -3.0\n",
      "Realizando sua conta. Confira o resultado abaixo:\n",
      "9.0 * 7.0 = 63.0\n"
     ]
    }
   ],
   "source": [
    "\n",
    "while True:\n",
    "    # Pedir ao usuário dois números e um operador (+, , , /).\n",
    "    n1 = input(\"Por favor, introduza um número: \")\n",
    "    n2 = input(\"Por favor, introduza outro número: \")\n",
    "    operador = input(\"Agora introduza o operador válido: \")\n",
    "#   Validação:\n",
    "# - Se ambos os valores digitados são números (convertíveis para `float`).\n",
    "# - Se o operador é um único caractere e está entre `+-/*`.\n",
    "    numeros_validos = None\n",
    "    try:\n",
    "        num1 = float(n1)\n",
    "        num2 = float(n2)\n",
    "        numeros_validos = True\n",
    "    except:\n",
    "        numeros_validos = None\n",
    "    if numeros_validos == None:\n",
    "        print(\"um ou ambos os números digitados são inválidos.\")\n",
    "        continue\n",
    "    operadores = \"+-*/\"\n",
    "    if operador not in operadores:\n",
    "        print(\"Operador Inválido\")\n",
    "        continue\n",
    "    if len(operador) > 1:\n",
    "        print(\"Digite apenas um operador.\")\n",
    "        continue\n",
    "    # Escolha da operação\n",
    "    if operador == '+':\n",
    "        resultado = num1 + num2\n",
    "        simbolo = '+'\n",
    "    elif operador == '-':\n",
    "        resultado = num1 - num2\n",
    "        simbolo = '-'\n",
    "    elif operador == '*':\n",
    "        resultado = num1 * num2\n",
    "        simbolo = '*'\n",
    "    elif operador == '/':\n",
    "        resultado = num1 / num2\n",
    "        simbolo = '/'\n",
    "\n",
    "        # Exibição\n",
    "    print('Realizando sua conta. Confira o resultado abaixo:')\n",
    "    print(f'{num1} {simbolo} {num2} = {resultado}')\n",
    "\n",
    "    # Volta ao início para nova operação\n",
    "    sair = input(\"Quer sair? [s]im ou [n]ão\").lower().startswith(\"s\")\n",
    "    if sair:\n",
    "        break"
   ]
  },
  {
   "cell_type": "code",
   "execution_count": 2,
   "metadata": {},
   "outputs": [
    {
     "name": "stdout",
     "output_type": "stream",
     "text": [
      "Realizando sua conta. Confira o resultado abaixo:\n",
      "5.0 + 8.0 = 13.0\n",
      "Realizando sua conta. Confira o resultado abaixo:\n",
      "8.0 * 23.0 = 184.0\n"
     ]
    }
   ],
   "source": [
    "while True:\n",
    "    # 1) Saída\n",
    "    if input('Quer sair? [s]im: ').lower().startswith('s'):\n",
    "        break\n",
    "\n",
    "    # 2) Leitura\n",
    "    n1 = input('Digite um número: ')\n",
    "    n2 = input('Digite outro número: ')\n",
    "    op = input('Digite o operador (+-/*): ')\n",
    "\n",
    "    # 3) Validação\n",
    "    valid = None\n",
    "    try:\n",
    "        num1 = float(n1)\n",
    "        num2 = float(n2)\n",
    "        valid = True\n",
    "    except:\n",
    "        valid = None\n",
    "    if valid is None:\n",
    "        print('Um ou ambos os números digitados são inválidos.')\n",
    "        continue\n",
    "\n",
    "    if op not in '+-/*' or len(op) != 1:\n",
    "        print('Operador inválido. Digite apenas um entre +, -, *, /.')\n",
    "        continue\n",
    "\n",
    "    # 4) Cálculo\n",
    "    res = None\n",
    "    if   op == '+': res = num1 + num2\n",
    "    elif op == '-': res = num1 - num2\n",
    "    elif op == '*': res = num1 * num2\n",
    "    elif op == '/': res = num1 / num2\n",
    "\n",
    "    # 5) Exibição\n",
    "    print('Realizando sua conta. Confira o resultado abaixo:')\n",
    "    print(f'{num1} {op} {num2} = {res}')\n"
   ]
  },
  {
   "cell_type": "code",
   "execution_count": 4,
   "metadata": {},
   "outputs": [
    {
     "name": "stdout",
     "output_type": "stream",
     "text": [
      "6\n"
     ]
    }
   ],
   "source": [
    "frase = \"frase aleatória que eu pensei agora\"\n",
    "contagem = frase.count(\"a\")\n",
    "print(contagem)"
   ]
  },
  {
   "cell_type": "markdown",
   "metadata": {},
   "source": [
    "# 🕵️‍♂️ Exercício – Jogo da Palavra Secreta 🔐"
   ]
  },
  {
   "cell_type": "markdown",
   "metadata": {},
   "source": [
    "**Objetivo:**\n",
    "\n",
    "Criar um *game* em que o usuário tenta adivinhar letra a letra uma **palavra secreta**, exibindo corretamente as letras já acertadas e “ocultando” as restantes com `*`, além de contar tentativas e limpar a tela ao final.\n",
    "\n",
    "---\n",
    "\n",
    "## 🎯 Regras do Jogo\n",
    "\n",
    "1. **Palavra secreta** pré-definida (ex.: `\"perfume\"`).\n",
    "2. A cada rodada, o usuário digita **apenas uma letra**:\n",
    "    - Se digitar mais de um caractere → ❌ mensagem e volta ao início.\n",
    "3. Se a **letra está** na palavra secreta → adiciona às “letras acertadas”.\n",
    "    \n",
    "    Se **não está** → nada de novo (continua oculto).\n",
    "    \n",
    "4. Exibe a **palavra formatada**, letra por letra:\n",
    "    - Se a letra já foi acertada → mostra a letra.\n",
    "    - Se não → mostra .\n",
    "5. **Conta tentativas** até o usuário completar a palavra.\n",
    "6. Quando a palavra formada **igualar** a palavra secreta:\n",
    "    - Limpa o terminal (`os.system('clear')` ou `CLS` no Windows).\n",
    "    - Parabeniza, mostra total de tentativas.\n",
    "    - **Reinicia** contador e letras acertadas para um novo jogo."
   ]
  },
  {
   "cell_type": "code",
   "execution_count": 1,
   "metadata": {},
   "outputs": [
    {
     "name": "stdout",
     "output_type": "stream",
     "text": [
      "a letra 'a' está na palavra\n",
      "Agora a palavra está assim: *a*a**********\n",
      "Sinto muito, mas a letra 'k' não está na palavra! \n",
      "a letra 'p' está na palavra\n",
      "Agora a palavra está assim: pa*a****p*p***\n",
      "a letra 'l' está na palavra\n",
      "Agora a palavra está assim: pa*al*l*p*p***\n",
      "a letra 'r' está na palavra\n",
      "Agora a palavra está assim: paral*l*p*p***\n",
      "a letra 'e' está na palavra\n",
      "Agora a palavra está assim: paralelep*p***\n",
      "a letra 'i' está na palavra\n",
      "Agora a palavra está assim: paralelepipi**\n",
      "a letra 'd' está na palavra\n",
      "Agora a palavra está assim: paralelepipid*\n",
      "a letra 'o' está na palavra\n",
      "Agora a palavra está assim: paralelepipido\n",
      "Você conseguiu acertar todas as letras da palavra paralelepipido com 9 tentativas. parabéns!!\n"
     ]
    }
   ],
   "source": [
    "palavra_secreta = \"paralelepipido\"\n",
    "tentativas = 0\n",
    "acertos = str(len(palavra_secreta) * \"*\")\n",
    "while True:\n",
    "    letra = input(\"Digite uma letra: \")\n",
    "    tentativas+=1\n",
    "    if len(letra) > 1:\n",
    "        print(\"Você devia ter digitado apenas uma letra!\")\n",
    "        continue\n",
    "    if letra in palavra_secreta:\n",
    "        print(f\"a letra '{letra}' está na palavra\")\n",
    "        for i in range(len(palavra_secreta)):\n",
    "            if palavra_secreta[i] == letra:\n",
    "                acertos = acertos[:i]+letra+acertos[i+1:]\n",
    "        print(f\"Agora a palavra está assim: {acertos}\")\n",
    "    else:\n",
    "        print(f\"Sinto muito, mas a letra '{letra}' não está na palavra! \")\n",
    "    if \"*\" not in acertos:\n",
    "        print(f\"Você conseguiu acertar todas as letras da palavra {palavra_secreta} com {tentativas} tentativas. parabéns!!\")\n",
    "        break"
   ]
  }
 ],
 "metadata": {
  "kernelspec": {
   "display_name": "Python 3",
   "language": "python",
   "name": "python3"
  },
  "language_info": {
   "codemirror_mode": {
    "name": "ipython",
    "version": 3
   },
   "file_extension": ".py",
   "mimetype": "text/x-python",
   "name": "python",
   "nbconvert_exporter": "python",
   "pygments_lexer": "ipython3",
   "version": "3.12.2"
  }
 },
 "nbformat": 4,
 "nbformat_minor": 2
}
